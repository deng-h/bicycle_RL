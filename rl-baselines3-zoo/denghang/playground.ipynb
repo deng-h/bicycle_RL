{
 "cells": [
  {
   "cell_type": "code",
   "execution_count": 1,
   "id": "initial_id",
   "metadata": {
    "ExecuteTime": {
     "end_time": "2024-05-10T12:36:19.399393100Z",
     "start_time": "2024-05-10T12:36:19.016762300Z"
    },
    "collapsed": true
   },
   "outputs": [
    {
     "name": "stdout",
     "output_type": "stream",
     "text": [
      "========== BicycleDengh-v0 ==========\n",
      "Seed: 588989222\n",
      "Loading hyperparameters from: d:\\data\\1-L\\9-bicycle\\PyBulletProj\\rl-baselines3-zoo\\hyperparams\\ppo.yml\n",
      "Default hyperparameters for environment (ones being tuned will be overridden):\n",
      "OrderedDict([('n_timesteps', 50000.0), ('policy', 'MlpPolicy')])\n",
      "Using 1 environments\n",
      "Creating test environment\n",
      "Using cuda device\n",
      "Log path: logs/ppo/BicycleDengh-v0_6\n"
     ]
    },
    {
     "name": "stderr",
     "output_type": "stream",
     "text": [
      "pybullet build time: Nov 11 2023 15:25:09\n",
      "Traceback (most recent call last):\n",
      "  File \"d:\\data\\1-L\\9-bicycle\\PyBulletProj\\rl-baselines3-zoo\\train.py\", line 4, in <module>\n",
      "    train()\n",
      "  File \"d:\\data\\1-L\\9-bicycle\\PyBulletProj\\rl-baselines3-zoo\\rl_zoo3\\train.py\", line 272, in train\n",
      "    exp_manager.learn(model)\n",
      "  File \"d:\\data\\1-L\\9-bicycle\\PyBulletProj\\rl-baselines3-zoo\\rl_zoo3\\exp_manager.py\", line 240, in learn\n",
      "    model.learn(self.n_timesteps, **kwargs)\n",
      "  File \"d:\\Anaconda\\pytorch\\lib\\site-packages\\stable_baselines3\\ppo\\ppo.py\", line 315, in learn\n",
      "    return super().learn(\n",
      "  File \"d:\\Anaconda\\pytorch\\lib\\site-packages\\stable_baselines3\\common\\on_policy_algorithm.py\", line 300, in learn\n",
      "    continue_training = self.collect_rollouts(self.env, callback, self.rollout_buffer, n_rollout_steps=self.n_steps)\n",
      "  File \"d:\\Anaconda\\pytorch\\lib\\site-packages\\stable_baselines3\\common\\on_policy_algorithm.py\", line 195, in collect_rollouts\n",
      "    new_obs, rewards, dones, infos = env.step(clipped_actions)\n",
      "  File \"d:\\Anaconda\\pytorch\\lib\\site-packages\\stable_baselines3\\common\\vec_env\\base_vec_env.py\", line 206, in step\n",
      "    return self.step_wait()\n",
      "  File \"d:\\Anaconda\\pytorch\\lib\\site-packages\\stable_baselines3\\common\\vec_env\\dummy_vec_env.py\", line 58, in step_wait\n",
      "    obs, self.buf_rews[env_idx], terminated, truncated, self.buf_infos[env_idx] = self.envs[env_idx].step(\n",
      "  File \"d:\\Anaconda\\pytorch\\lib\\site-packages\\stable_baselines3\\common\\monitor.py\", line 94, in step\n",
      "    observation, reward, terminated, truncated, info = self.env.step(action)\n",
      "  File \"d:\\Anaconda\\pytorch\\lib\\site-packages\\gymnasium\\wrappers\\order_enforcing.py\", line 56, in step\n",
      "    return self.env.step(action)\n",
      "  File \"d:\\Anaconda\\pytorch\\lib\\site-packages\\gymnasium\\wrappers\\env_checker.py\", line 49, in step\n",
      "    return env_step_passive_checker(self.env, action)\n",
      "  File \"d:\\Anaconda\\pytorch\\lib\\site-packages\\gymnasium\\utils\\passive_env_checker.py\", line 208, in env_step_passive_checker\n",
      "    result = env.step(action)\n",
      "  File \"d:\\data\\1-l\\9-bicycle\\pybulletproj\\bicycledengh\\bicycle_dengh\\envs\\bicycle_dengh_env.py\", line 54, in step\n",
      "    self.bicycle.apply_action(action)\n",
      "  File \"d:\\data\\1-l\\9-bicycle\\pybulletproj\\bicycledengh\\bicycle_dengh\\resources\\bicycle.py\", line 32, in apply_action\n",
      "    p.setJointMotorControl2(bodyUniqueId=self.bicycle,\n",
      "pybullet.error: Joint index out-of-range.\n"
     ]
    }
   ],
   "source": [
    "!python ../train.py --algo ppo --env BicycleDengh-v0 --eval-freq 10000"
   ]
  }
 ],
 "metadata": {
  "kernelspec": {
   "display_name": "Python 3",
   "language": "python",
   "name": "python3"
  },
  "language_info": {
   "codemirror_mode": {
    "name": "ipython",
    "version": 3
   },
   "file_extension": ".py",
   "mimetype": "text/x-python",
   "name": "python",
   "nbconvert_exporter": "python",
   "pygments_lexer": "ipython3",
   "version": "3.10.12"
  }
 },
 "nbformat": 4,
 "nbformat_minor": 5
}
